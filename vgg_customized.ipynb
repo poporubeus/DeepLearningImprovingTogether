{
 "cells": [
  {
   "cell_type": "code",
   "execution_count": 25,
   "id": "initial_id",
   "metadata": {
    "collapsed": true,
    "ExecuteTime": {
     "end_time": "2024-06-15T16:18:41.417690Z",
     "start_time": "2024-06-15T16:18:41.409523Z"
    }
   },
   "outputs": [],
   "source": [
    "import torch\n",
    "from torchvision import transforms\n",
    "from torchvision import datasets\n",
    "import matplotlib.pyplot as plt\n",
    "import numpy as np\n",
    "import torch.nn as nn\n",
    "import torch.optim as optim\n",
    "from tqdm import tqdm"
   ]
  },
  {
   "cell_type": "code",
   "outputs": [],
   "source": [
    "import ssl\n",
    "ssl._create_default_https_context = ssl._create_unverified_context"
   ],
   "metadata": {
    "collapsed": false,
    "ExecuteTime": {
     "end_time": "2024-06-15T16:08:55.171331Z",
     "start_time": "2024-06-15T16:08:55.165446Z"
    }
   },
   "id": "c6119a294aa4794d",
   "execution_count": 8
  },
  {
   "cell_type": "code",
   "outputs": [],
   "source": [
    "data_folder = \"/home/fv/storage1/qml/cifar_data\""
   ],
   "metadata": {
    "collapsed": false,
    "ExecuteTime": {
     "end_time": "2024-06-15T16:11:30.395690Z",
     "start_time": "2024-06-15T16:11:30.392382Z"
    }
   },
   "id": "ae5824e5315bfbdc",
   "execution_count": 15
  },
  {
   "cell_type": "code",
   "outputs": [
    {
     "name": "stdout",
     "output_type": "stream",
     "text": [
      "Downloading https://www.cs.toronto.edu/~kriz/cifar-10-python.tar.gz to /home/fv/storage1/qml/cifar_data/cifar-10-python.tar.gz\n"
     ]
    },
    {
     "name": "stderr",
     "output_type": "stream",
     "text": [
      "100%|██████████| 170498071/170498071 [00:51<00:00, 3296106.77it/s] \n"
     ]
    },
    {
     "name": "stdout",
     "output_type": "stream",
     "text": [
      "Extracting /home/fv/storage1/qml/cifar_data/cifar-10-python.tar.gz to /home/fv/storage1/qml/cifar_data\n",
      "Files already downloaded and verified\n"
     ]
    }
   ],
   "source": [
    "transforms_cifar = transforms.Compose([\n",
    "    transforms.ToTensor(),\n",
    "    transforms.Normalize(mean=[0.485, 0.456, 0.406], std=[0.229, 0.224, 0.225]),\n",
    "])\n",
    "\n",
    "\n",
    "FULL_dataset = datasets.CIFAR10(root=data_folder, train=True, download=True, transform=transforms_cifar)\n",
    "test_dataset = datasets.CIFAR10(root=data_folder, train=False, download=True, transform=transforms_cifar)"
   ],
   "metadata": {
    "collapsed": false,
    "ExecuteTime": {
     "end_time": "2024-06-15T16:12:29.656263Z",
     "start_time": "2024-06-15T16:11:32.710013Z"
    }
   },
   "id": "cd7255ec5f74f67b",
   "execution_count": 16
  },
  {
   "cell_type": "code",
   "outputs": [],
   "source": [
    "train01_idx = np.where(np.array(FULL_dataset.targets) == 0 | (np.array(FULL_dataset.targets) == 1))[0]\n",
    "test01_idx = np.where(np.array(test_dataset.targets) == 0 | (np.array(test_dataset.targets) == 1))[0]"
   ],
   "metadata": {
    "collapsed": false,
    "ExecuteTime": {
     "end_time": "2024-06-15T16:12:54.242703Z",
     "start_time": "2024-06-15T16:12:54.219614Z"
    }
   },
   "id": "176fd6081a3b656a",
   "execution_count": 17
  },
  {
   "cell_type": "code",
   "outputs": [],
   "source": [
    "FULL_dataset.data =FULL_dataset.data[train01_idx]\n",
    "FULL_dataset.targets = np.array(FULL_dataset.targets)[train01_idx].tolist()\n",
    "test_dataset.data = test_dataset.data[test01_idx]\n",
    "test_dataset.targets = np.array(test_dataset.targets)[test01_idx].tolist()\n",
    "\n",
    "\n",
    "class CustomDataset(torch.utils.data.Dataset):\n",
    "    def __init__(self, data, targets, transform=None):\n",
    "        self.data = data\n",
    "        self.targets = targets\n",
    "        self.transform = transform\n",
    "    \n",
    "    def __len__(self):\n",
    "        return len(self.data)\n",
    "    \n",
    "    def __getitem__(self, idx):\n",
    "        image = self.data[idx]\n",
    "        target = self.targets[idx]\n",
    "        \n",
    "        if self.transform:\n",
    "            image = self.transform(image)\n",
    "        \n",
    "        return image, target\n",
    "\n",
    "new_train_dataset = CustomDataset(FULL_dataset.data, FULL_dataset.targets, transform=transforms_cifar) \n",
    "new_test_dataset = CustomDataset(test_dataset.data, test_dataset.targets, transform=transforms_cifar)"
   ],
   "metadata": {
    "collapsed": false,
    "ExecuteTime": {
     "end_time": "2024-06-15T16:13:03.026087Z",
     "start_time": "2024-06-15T16:13:02.983795Z"
    }
   },
   "id": "93784008e245c41f",
   "execution_count": 18
  },
  {
   "cell_type": "code",
   "outputs": [],
   "source": [
    "torch.manual_seed(46)\n",
    "val_size = 0.3*len(new_train_dataset)\n",
    "train_size = len(new_train_dataset) - val_size"
   ],
   "metadata": {
    "collapsed": false,
    "ExecuteTime": {
     "end_time": "2024-06-15T16:13:10.496452Z",
     "start_time": "2024-06-15T16:13:10.489863Z"
    }
   },
   "id": "8bb769949635096d",
   "execution_count": 19
  },
  {
   "cell_type": "code",
   "outputs": [
    {
     "data": {
      "text/plain": "(7000, 3000)"
     },
     "execution_count": 20,
     "metadata": {},
     "output_type": "execute_result"
    }
   ],
   "source": [
    "train_set, val_set = torch.utils.data.random_split(new_train_dataset, [int(train_size), int(val_size)])\n",
    "len(train_set), len(val_set)"
   ],
   "metadata": {
    "collapsed": false,
    "ExecuteTime": {
     "end_time": "2024-06-15T16:13:27.098306Z",
     "start_time": "2024-06-15T16:13:27.087837Z"
    }
   },
   "id": "df7eac9911defef1",
   "execution_count": 20
  },
  {
   "cell_type": "code",
   "outputs": [],
   "source": [
    "batch_size = 128\n",
    "train_loader = torch.utils.data.DataLoader(train_set, batch_size=batch_size, shuffle=False)\n",
    "test_loader = torch.utils.data.DataLoader(new_test_dataset, batch_size=batch_size, shuffle=False)\n",
    "val_loader = torch.utils.data.DataLoader(val_set, batch_size=batch_size, shuffle=False)"
   ],
   "metadata": {
    "collapsed": false,
    "ExecuteTime": {
     "end_time": "2024-06-15T16:13:45.326012Z",
     "start_time": "2024-06-15T16:13:45.317349Z"
    }
   },
   "id": "f78c9753960d8eea",
   "execution_count": 21
  },
  {
   "cell_type": "code",
   "outputs": [
    {
     "data": {
      "text/plain": "<Figure size 640x480 with 1 Axes>",
      "image/png": "[encoded data removed]"
     },
     "metadata": {},
     "output_type": "display_data"
    }
   ],
   "source": [
    "val_batch = next(iter(val_loader))\n",
    "\n",
    "val_input, val_target = val_batch\n",
    "single_image_val_batch = val_batch[0]\n",
    "image_np = single_image_val_batch.numpy()\n",
    "image_np = np.clip(image_np, 0, 1)\n",
    "plt.imshow(np.transpose(image_np[0], (1, 2, 0)))\n",
    "plt.tight_layout()"
   ],
   "metadata": {
    "collapsed": false,
    "ExecuteTime": {
     "end_time": "2024-06-15T16:15:00.106362Z",
     "start_time": "2024-06-15T16:14:59.746516Z"
    }
   },
   "id": "ed0a0c66430f25ea",
   "execution_count": 22
  },
  {
   "cell_type": "code",
   "outputs": [],
   "source": [
    "### Create my VGG\n",
    "\n",
    "class MyVGG(nn.Module):\n",
    "    def __init__(self) -> None:\n",
    "        super(MyVGG, self).__init__()\n",
    "        self.layer1 = nn.Sequential(\n",
    "            nn.Conv2d(3, 64, kernel_size=3, stride=1, padding=1),\n",
    "            nn.BatchNorm2d(64),\n",
    "            nn.ReLU())\n",
    "        self.layer2 = nn.Sequential(\n",
    "            nn.Conv2d(64, 64, kernel_size=3, stride=1, padding=1),\n",
    "            nn.BatchNorm2d(64),\n",
    "            nn.ReLU(), \n",
    "            nn.MaxPool2d(kernel_size = 2, stride = 2))\n",
    "        self.layer3 = nn.Sequential(\n",
    "            nn.Conv2d(64, 128, kernel_size=3, stride=1, padding=1),\n",
    "            nn.BatchNorm2d(128),\n",
    "            nn.ReLU())\n",
    "        self.layer4 = nn.Sequential(\n",
    "            nn.Conv2d(128, 128, kernel_size=3, stride=1, padding=1),\n",
    "            nn.BatchNorm2d(128),\n",
    "            nn.ReLU(),\n",
    "            nn.MaxPool2d(kernel_size = 2, stride = 2))\n",
    "        self.layer5 = nn.Sequential(\n",
    "            nn.Conv2d(128, 256, kernel_size=3, stride=1, padding=1),\n",
    "            nn.BatchNorm2d(256),\n",
    "            nn.ReLU())\n",
    "        self.layer6 = nn.Sequential(\n",
    "            nn.Conv2d(256, 256, kernel_size=3, stride=1, padding=1),\n",
    "            nn.BatchNorm2d(256),\n",
    "            nn.ReLU())\n",
    "        self.layer7 = nn.Sequential(\n",
    "            nn.Conv2d(256, 256, kernel_size=3, stride=1, padding=1),\n",
    "            nn.BatchNorm2d(256),\n",
    "            nn.ReLU(),\n",
    "            nn.MaxPool2d(kernel_size = 2, stride = 2))\n",
    "        self.layer8 = nn.Sequential(\n",
    "            nn.Conv2d(256, 512, kernel_size=3, stride=1, padding=1),\n",
    "            nn.BatchNorm2d(512),\n",
    "            nn.ReLU())\n",
    "        self.layer9 = nn.Sequential(\n",
    "            nn.Conv2d(512, 512, kernel_size=3, stride=1, padding=1),\n",
    "            nn.BatchNorm2d(512),\n",
    "            nn.ReLU())\n",
    "        self.layer10 = nn.Sequential(\n",
    "            nn.Conv2d(512, 512, kernel_size=3, stride=1, padding=1),\n",
    "            nn.BatchNorm2d(512),\n",
    "            nn.ReLU(),\n",
    "            nn.MaxPool2d(kernel_size = 2, stride = 2))\n",
    "        self.layer11 = nn.Sequential(\n",
    "            nn.Conv2d(512, 512, kernel_size=3, stride=1, padding=1),\n",
    "            nn.BatchNorm2d(512),\n",
    "            nn.ReLU())\n",
    "        self.layer12 = nn.Sequential(\n",
    "            nn.Conv2d(512, 512, kernel_size=3, stride=1, padding=1),\n",
    "            nn.BatchNorm2d(512),\n",
    "            nn.ReLU())\n",
    "        self.layer13 = nn.Sequential(\n",
    "            nn.Conv2d(512, 512, kernel_size=3, stride=1, padding=1),\n",
    "            nn.BatchNorm2d(512),\n",
    "            nn.ReLU(),\n",
    "            nn.MaxPool2d(kernel_size = 2, stride = 2))\n",
    "        self.fc = nn.Sequential(\n",
    "            nn.Dropout(0.5),\n",
    "            nn.Linear(512, 4096),\n",
    "            nn.ReLU())\n",
    "        self.fc1 = nn.Sequential(\n",
    "            nn.Dropout(0.5),\n",
    "            nn.Linear(4096, 4096),\n",
    "            nn.ReLU())\n",
    "        self.fc2= nn.Sequential(\n",
    "            nn.Linear(4096, 2))\n",
    "        \n",
    "    def forward(self, x):\n",
    "        out = self.layer1(x)\n",
    "        out = self.layer2(out)\n",
    "        out = self.layer3(out)\n",
    "        out = self.layer4(out)\n",
    "        out = self.layer5(out)\n",
    "        out = self.layer6(out)\n",
    "        out = self.layer7(out)\n",
    "        out = self.layer8(out)\n",
    "        out = self.layer9(out)\n",
    "        out = self.layer10(out)\n",
    "        out = self.layer11(out)\n",
    "        out = self.layer12(out)\n",
    "        out = self.layer13(out)\n",
    "        out = out.reshape(out.size(0), -1)\n",
    "        out = self.fc(out)\n",
    "        out = self.fc1(out)\n",
    "        out = self.fc2(out)\n",
    "        return out"
   ],
   "metadata": {
    "collapsed": false,
    "ExecuteTime": {
     "end_time": "2024-06-15T16:45:41.373750Z",
     "start_time": "2024-06-15T16:45:41.353220Z"
    }
   },
   "id": "b56d52c9b64127a2",
   "execution_count": 68
  },
  {
   "cell_type": "code",
   "outputs": [],
   "source": [
    "gpu_device = torch.device(\"cuda\")"
   ],
   "metadata": {
    "collapsed": false,
    "ExecuteTime": {
     "end_time": "2024-06-15T16:32:12.584494Z",
     "start_time": "2024-06-15T16:32:12.581034Z"
    }
   },
   "id": "2ce963eafb2f45a1",
   "execution_count": 39
  },
  {
   "cell_type": "code",
   "outputs": [],
   "source": [
    "def evaluate(model: torch.nn.Module, loader: torch.utils.data.DataLoader,\n",
    "             criterion: callable, device: torch.device) -> tuple[float, float]:\n",
    "    \"\"\"\n",
    "    Evaluate both loss and accuracy on a specific set, in this case it shoule be the\n",
    "    validation set. The loss and accuracy are computed with torch.no_grad(), i.e.\n",
    "    in the evaluation mode, without computing the gradient at each epoch.\n",
    "    :param model: (torch.nn.Module) model to evaluate;\n",
    "    :param loader: (torch.utils.data.DataLoader) data loader;\n",
    "    :param criterion: (callable) loss function;\n",
    "    :param device: (torch.device) device to use;\n",
    "    :return: (tuple) loss and accuracy of the model after evaluation.\n",
    "    \"\"\"\n",
    "    model.eval()\n",
    "    total_loss = 0.0\n",
    "    correct = 0\n",
    "    total_instances = 0\n",
    "\n",
    "    with torch.no_grad():\n",
    "        for inputs, labels in loader:\n",
    "            inputs, labels = inputs.to(device), labels.to(device)\n",
    "            outputs = model(inputs)\n",
    "            loss = criterion(outputs, labels)\n",
    "            total_loss += loss.item()\n",
    "\n",
    "            classifications = torch.argmax(outputs, dim=1)\n",
    "            correct += (classifications == labels).sum().item()\n",
    "            total_instances += len(inputs)\n",
    "\n",
    "    average_loss = total_loss / len(loader)\n",
    "    accuracy = (correct / total_instances) * 100\n",
    "    return average_loss, accuracy\n",
    "\n",
    "\n",
    "def train(model: torch.nn.Module, train_loader: torch.utils.data.DataLoader,\n",
    "          val_loader: torch.utils.data.DataLoader, epochs: int, learning_rate: float,\n",
    "          seed: int, device: torch.device) -> None:\n",
    "    \"\"\"\n",
    "    Function which trains the model on training dataloader and evaluates it\n",
    "    on the validation dataloader. During training, the model is set to train mode,\n",
    "    it computes loss and accuracy after each epoch either on training and validation sets.\n",
    "    :param model: (torch.nn.Module) the model to be trained and validated;\n",
    "    :param train_loader: (torch.utils.data.DataLoader) training data loader;\n",
    "    :param val_loader: (torch.utils.data.DataLoader) validation data loader;\n",
    "    :param epochs: (int) number of epochs to train the model;\n",
    "    :param learning_rate: (float) learning rate;\n",
    "    :param seed: (int) random seed for reproducibility;\n",
    "    :param device: (torch.device) device to use the model with - it can be cpu or gpu (cuda);\n",
    "    :return: None.\n",
    "    \"\"\"\n",
    "    torch.manual_seed(seed)\n",
    "    model = model.to(device)\n",
    "    criterion = nn.CrossEntropyLoss()\n",
    "    optimizer = optim.Adam(model.parameters(), lr=learning_rate)\n",
    "\n",
    "    for epoch in tqdm(range(epochs)):\n",
    "        model.train()\n",
    "        running_loss = 0.0 # la loss che calcoliamo è una loss che si aggiorna dopo ogni epoca, non è dopo ogni batch.\n",
    "        total_correct = 0\n",
    "        total_instances = 0\n",
    "\n",
    "        for inputs, labels in train_loader:\n",
    "            inputs, labels = inputs.to(device), labels.to(device)\n",
    "            optimizer.zero_grad()\n",
    "            outputs = model(inputs)\n",
    "            loss = criterion(outputs, labels)\n",
    "            loss.backward()\n",
    "            optimizer.step()\n",
    "            running_loss += loss.item()\n",
    "\n",
    "            with torch.no_grad():\n",
    "                classifications = torch.argmax(outputs, dim=1)\n",
    "                correct_predictions = (classifications == labels).sum().item()\n",
    "                total_correct += correct_predictions\n",
    "                total_instances += len(inputs)\n",
    "\n",
    "        val_loss, val_accuracy = evaluate(model, val_loader, criterion, device)\n",
    "        print(\n",
    "            f\"Epoch {epoch+1}, Loss: {running_loss / len(train_loader)}, \"\n",
    "            f\"Validation Loss: {val_loss}, \"\n",
    "            f\"Accuracy: {(total_correct / total_instances) * 100:.2f}%, \"\n",
    "            f\"Validation Accuracy: {val_accuracy:.2f}%\"\n",
    "        )\n",
    "\n",
    "\n",
    "def test(model: torch.nn.Module, test_loader: torch.utils.data.DataLoader, device: torch.device) -> tuple:\n",
    "    \"\"\"\n",
    "    Evaluate the model on the test dataloader.\n",
    "    :param model: (callable) the model to evaluate;\n",
    "    :param test_loader: (torch.utils.data.DataLoader) the test dataloader;\n",
    "    :param device: (torch.device) the device to use for evaluation;\n",
    "    :return: accuracy: (float) the accuracy on the test dataloader;\n",
    "    \"\"\"\n",
    "    model.eval() # model settato in evaluation (non ho bisogno di calcolare il gradiente)\n",
    "    correct = 0\n",
    "    total = 0\n",
    "    all_predictions = []\n",
    "    with torch.no_grad():\n",
    "        for inputs, labels in test_loader:\n",
    "            inputs, labels = inputs.to(device), labels.to(device)\n",
    "\n",
    "            outputs = model(inputs)\n",
    "            _, predicted = torch.max(outputs.data, 1)\n",
    "\n",
    "            total += labels.size(0)\n",
    "            correct += (predicted == labels).sum().item()\n",
    "            all_predictions.extend(predicted.cpu().numpy())\n",
    "    accuracy = 100 * correct / total\n",
    "    print(f\"Test Accuracy: {accuracy:.2f}%\")\n",
    "    return (accuracy, np.array(all_predictions))"
   ],
   "metadata": {
    "collapsed": false,
    "ExecuteTime": {
     "end_time": "2024-06-15T16:45:44.893947Z",
     "start_time": "2024-06-15T16:45:44.873878Z"
    }
   },
   "id": "41742f693de16be",
   "execution_count": 69
  },
  {
   "cell_type": "code",
   "outputs": [
    {
     "name": "stdout",
     "output_type": "stream",
     "text": [
      "Train my VGG model...\n"
     ]
    },
    {
     "name": "stderr",
     "output_type": "stream",
     "text": [
      " 10%|█         | 1/10 [00:03<00:27,  3.07s/it]"
     ]
    },
    {
     "name": "stdout",
     "output_type": "stream",
     "text": [
      "Epoch 1, Loss: 0.9159335342320529, Validation Loss: 0.6226648638645808, Accuracy: 56.30%, Validation Accuracy: 70.77%\n"
     ]
    },
    {
     "name": "stderr",
     "output_type": "stream",
     "text": [
      " 20%|██        | 2/10 [00:06<00:24,  3.11s/it]"
     ]
    },
    {
     "name": "stdout",
     "output_type": "stream",
     "text": [
      "Epoch 2, Loss: 0.6253296895460649, Validation Loss: 0.6662541603048643, Accuracy: 64.03%, Validation Accuracy: 61.60%\n"
     ]
    },
    {
     "name": "stderr",
     "output_type": "stream",
     "text": [
      " 30%|███       | 3/10 [00:09<00:21,  3.12s/it]"
     ]
    },
    {
     "name": "stdout",
     "output_type": "stream",
     "text": [
      "Epoch 3, Loss: 0.3600525612180883, Validation Loss: 0.2300737046947082, Accuracy: 85.56%, Validation Accuracy: 91.63%\n"
     ]
    },
    {
     "name": "stderr",
     "output_type": "stream",
     "text": [
      " 40%|████      | 4/10 [00:12<00:19,  3.24s/it]"
     ]
    },
    {
     "name": "stdout",
     "output_type": "stream",
     "text": [
      "Epoch 4, Loss: 0.23690697848796843, Validation Loss: 0.2870692952225606, Accuracy: 90.51%, Validation Accuracy: 86.73%\n"
     ]
    },
    {
     "name": "stderr",
     "output_type": "stream",
     "text": [
      " 50%|█████     | 5/10 [00:16<00:16,  3.26s/it]"
     ]
    },
    {
     "name": "stdout",
     "output_type": "stream",
     "text": [
      "Epoch 5, Loss: 0.18616697056726975, Validation Loss: 0.2255447879433632, Accuracy: 92.69%, Validation Accuracy: 90.67%\n"
     ]
    },
    {
     "name": "stderr",
     "output_type": "stream",
     "text": [
      " 60%|██████    | 6/10 [00:19<00:12,  3.24s/it]"
     ]
    },
    {
     "name": "stdout",
     "output_type": "stream",
     "text": [
      "Epoch 6, Loss: 0.14763793850486928, Validation Loss: 0.14163517082730928, Accuracy: 94.37%, Validation Accuracy: 94.37%\n"
     ]
    },
    {
     "name": "stderr",
     "output_type": "stream",
     "text": [
      " 70%|███████   | 7/10 [00:22<00:09,  3.21s/it]"
     ]
    },
    {
     "name": "stdout",
     "output_type": "stream",
     "text": [
      "Epoch 7, Loss: 0.11857604790817608, Validation Loss: 0.205102545209229, Accuracy: 95.67%, Validation Accuracy: 93.87%\n"
     ]
    },
    {
     "name": "stderr",
     "output_type": "stream",
     "text": [
      " 80%|████████  | 8/10 [00:25<00:06,  3.19s/it]"
     ]
    },
    {
     "name": "stdout",
     "output_type": "stream",
     "text": [
      "Epoch 8, Loss: 0.10442866689779541, Validation Loss: 0.12632047571241856, Accuracy: 96.16%, Validation Accuracy: 95.27%\n"
     ]
    },
    {
     "name": "stderr",
     "output_type": "stream",
     "text": [
      " 90%|█████████ | 9/10 [00:28<00:03,  3.19s/it]"
     ]
    },
    {
     "name": "stdout",
     "output_type": "stream",
     "text": [
      "Epoch 9, Loss: 0.07859620282595808, Validation Loss: 0.09573141035313408, Accuracy: 97.01%, Validation Accuracy: 96.23%\n"
     ]
    },
    {
     "name": "stderr",
     "output_type": "stream",
     "text": [
      "100%|██████████| 10/10 [00:31<00:00,  3.19s/it]"
     ]
    },
    {
     "name": "stdout",
     "output_type": "stream",
     "text": [
      "Epoch 10, Loss: 0.06317483027550307, Validation Loss: 0.11395557954286535, Accuracy: 97.60%, Validation Accuracy: 95.67%\n"
     ]
    },
    {
     "name": "stderr",
     "output_type": "stream",
     "text": [
      "\n"
     ]
    }
   ],
   "source": [
    "vgg_net = MyVGG()\n",
    "print(\"Train my VGG model...\")\n",
    "\n",
    "train(model=vgg_net,\n",
    "      train_loader=train_loader,\n",
    "      val_loader=val_loader,\n",
    "      epochs=10,\n",
    "      device=gpu_device,\n",
    "      learning_rate=0.001,\n",
    "      seed=8888)"
   ],
   "metadata": {
    "collapsed": false,
    "ExecuteTime": {
     "end_time": "2024-06-15T16:46:21.844702Z",
     "start_time": "2024-06-15T16:45:49.344551Z"
    }
   },
   "id": "8b9ff5d8cf7bf501",
   "execution_count": 70
  },
  {
   "cell_type": "code",
   "outputs": [
    {
     "name": "stdout",
     "output_type": "stream",
     "text": [
      "Test Accuracy: 96.45%\n"
     ]
    }
   ],
   "source": [
    "test_acc, predictions = test(model=vgg_net, test_loader=test_loader, device=gpu_device)"
   ],
   "metadata": {
    "collapsed": false,
    "ExecuteTime": {
     "end_time": "2024-06-15T16:46:25.472130Z",
     "start_time": "2024-06-15T16:46:25.026253Z"
    }
   },
   "id": "97290b9e4f821bad",
   "execution_count": 71
  },
  {
   "cell_type": "code",
   "outputs": [
    {
     "data": {
      "text/plain": "array([0, 1, 1, ..., 0, 0, 1])"
     },
     "execution_count": 72,
     "metadata": {},
     "output_type": "execute_result"
    }
   ],
   "source": [
    "pred = predictions\n",
    "predictions"
   ],
   "metadata": {
    "collapsed": false,
    "ExecuteTime": {
     "end_time": "2024-06-15T16:46:28.750166Z",
     "start_time": "2024-06-15T16:46:28.742144Z"
    }
   },
   "id": "637de59fbdd0d120",
   "execution_count": 72
  },
  {
   "cell_type": "code",
   "outputs": [
    {
     "data": {
      "text/plain": "2000"
     },
     "execution_count": 63,
     "metadata": {},
     "output_type": "execute_result"
    }
   ],
   "source": [
    "len(predictions)"
   ],
   "metadata": {
    "collapsed": false,
    "ExecuteTime": {
     "end_time": "2024-06-15T16:44:30.982780Z",
     "start_time": "2024-06-15T16:44:30.977662Z"
    }
   },
   "id": "3ad27b1138b944b3",
   "execution_count": 63
  },
  {
   "cell_type": "code",
   "outputs": [],
   "source": [
    "from sklearn.metrics import ConfusionMatrixDisplay, confusion_matrix"
   ],
   "metadata": {
    "collapsed": false,
    "ExecuteTime": {
     "end_time": "2024-06-15T16:37:34.845884Z",
     "start_time": "2024-06-15T16:37:34.284747Z"
    }
   },
   "id": "9b6fa6790c4d760",
   "execution_count": 46
  },
  {
   "cell_type": "code",
   "outputs": [
    {
     "data": {
      "text/plain": "<sklearn.metrics._plot.confusion_matrix.ConfusionMatrixDisplay at 0x77455d0233d0>"
     },
     "execution_count": 73,
     "metadata": {},
     "output_type": "execute_result"
    },
    {
     "data": {
      "text/plain": "<Figure size 640x480 with 2 Axes>",
      "image/png": "[encoded data removed]"
     },
     "metadata": {},
     "output_type": "display_data"
    }
   ],
   "source": [
    "ConfusionMatrixDisplay(confusion_matrix(y_pred=predictions, y_true=test_loader.dataset.targets)\n",
    ").plot()"
   ],
   "metadata": {
    "collapsed": false,
    "ExecuteTime": {
     "end_time": "2024-06-15T16:46:33.629361Z",
     "start_time": "2024-06-15T16:46:33.374068Z"
    }
   },
   "id": "3fe638ad608e3b7a",
   "execution_count": 73
  }
 ],
 "metadata": {
  "kernelspec": {
   "display_name": "Python 3",
   "language": "python",
   "name": "python3"
  },
  "language_info": {
   "codemirror_mode": {
    "name": "ipython",
    "version": 2
   },
   "file_extension": ".py",
   "mimetype": "text/x-python",
   "name": "python",
   "nbconvert_exporter": "python",
   "pygments_lexer": "ipython2",
   "version": "2.7.6"
  }
 },
 "nbformat": 4,
 "nbformat_minor": 5
}
